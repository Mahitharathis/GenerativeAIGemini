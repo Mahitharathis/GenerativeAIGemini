# Create virtual env 
## 1) python -m venv genai
## 2) .\genai\Scripts\activate - to activate venv in your system

# Creating basic streamlit application

import streamlit as st

#st.title("Hello Genai Folks, Greetings for the day!!!")
#name = st.text_input("Enter your name here : ")
#feedback = st.text_area("Enter your feedback here :")
#btn_click = st.button('Submit')
#if btn_click == True:
 #       st.text("You have submitted the form correctly.")
  #      st.text(f"User Name : {name}")
   #     st.text(f"Your Feedback : {feedback}")
from openai import OpenAI
# setup an API Client
f = open("keys/.openai_api_key.txt")
key = f.read()
model = OpenAI(api_key=key)

st.title("AI ChatBOT 🤖")

# Initialize memory in the session state
if "messages" not in st.session_state:
        st.session_state["messages"] = []
if "memory" not in st.session_state:
        st.session_state["memory"] = {}

st.chat_message("assistant").write("Hi, Welcome! What can I help with?")

# Display previous messages
for msg in st.session_state["messages"]:
        st.chat_message(msg["role"]).write(msg["content"])

# For taking user input
user_input = st.chat_input()

if user_input:
        # add user input to memory for context retention
        st.session_state["messages"].append({"role":"user","content":user_input})
        if "my name is" in user_input.lower():
                name=user_input.split("my name is")[-1].strip().split()[0]
                st.session_state["memory"]["name"] = name
                response_text = f"Nice to meet you, how can i help you {name}"
        else:
                # include memory in system prompt
                memory_content = (
                        f"User's name is {st.session_state['memory'].get('name','Unknown')}."
                        if "name" in st.session_state['memory'] else""
                )
                response = model.chat.completions.create(
                        model='gpt-4o-mini',
                        messages=[{"role":"system",
                                   "content":f"""You are a professional Education Counsellor 
                                   working with a Data Science Institute called "Learnbay". If someone asks your name, tell them politely that your name is "Learnbay Amigoes". 
                                   {memory_content}"""}] + 
                                   st.session_state['messages'] + [{
                                           "role":"user", "content": user_input
                                   }]
                )
                response_text = response.choices[0].message.content
        st.chat_message("assistant").write(response_text)
        # store messages in session state
        st.session_state['messages'].append({"role":"user","content":user_input})
        st.session_state['messages'].append({"role":"assistant","content":response_text})


